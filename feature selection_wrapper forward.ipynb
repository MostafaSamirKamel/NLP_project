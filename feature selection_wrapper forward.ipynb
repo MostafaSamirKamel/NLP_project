{
  "nbformat": 4,
  "nbformat_minor": 0,
  "metadata": {
    "colab": {
      "provenance": [],
      "authorship_tag": "ABX9TyPYkqqVdwrJ/FtYnNZWLbdj",
      "include_colab_link": true
    },
    "kernelspec": {
      "name": "python3",
      "display_name": "Python 3"
    },
    "language_info": {
      "name": "python"
    }
  },
  "cells": [
    {
      "cell_type": "markdown",
      "metadata": {
        "id": "view-in-github",
        "colab_type": "text"
      },
      "source": [
        "<a href=\"https://colab.research.google.com/github/MostafaSamirKamel/NLP_project/blob/MostafaSamir%2FNLP_search%2FMachine_Translation/feature%20selection_wrapper%20forward.ipynb\" target=\"_parent\"><img src=\"https://colab.research.google.com/assets/colab-badge.svg\" alt=\"Open In Colab\"/></a>"
      ]
    },
    {
      "cell_type": "code",
      "execution_count": 1,
      "metadata": {
        "colab": {
          "base_uri": "https://localhost:8080/"
        },
        "id": "ZmOWCps35kVz",
        "outputId": "bc42ab9d-e52e-42fd-c56d-4603ba1211cb"
      },
      "outputs": [
        {
          "output_type": "stream",
          "name": "stdout",
          "text": [
            "Selected feature 22 with cross-validation score: 0.8875\n",
            "Selected feature 24 with cross-validation score: 0.9472\n",
            "Selected feature 21 with cross-validation score: 0.9631\n",
            "Selected feature 14 with cross-validation score: 0.9683\n",
            "Selected feature 16 with cross-validation score: 0.9719\n",
            "Selected Features: [22, 24, 21, 14, 16]\n",
            "Best Cross-Validation Score: 0.9719\n"
          ]
        }
      ],
      "source": [
        "import numpy as np\n",
        "from sklearn.ensemble import RandomForestClassifier\n",
        "from sklearn.model_selection import cross_val_score\n",
        "from sklearn.datasets import load_breast_cancer\n",
        "\n",
        "# Load dataset (breast cancer dataset for this example)\n",
        "data = load_breast_cancer()\n",
        "features = data.data   # Features\n",
        "target = data.target   # Target\n",
        "\n",
        "# Forward selection implementation from scratch\n",
        "def forward_selection(features, target, model, max_features=None):\n",
        "    n_features = features.shape[1]\n",
        "    selected_features = []  # Store selected feature indices\n",
        "    remaining_features = list(range(n_features))  # All features initially available\n",
        "\n",
        "    if max_features is None:\n",
        "        max_features = n_features  # Use all features if max_features not provided\n",
        "\n",
        "    best_score = 0  # To track the best score obtained\n",
        "    while len(selected_features) < max_features and remaining_features:\n",
        "        best_feature = None\n",
        "        best_feature_score = best_score\n",
        "\n",
        "        # Try adding each remaining feature one by one\n",
        "        for feature in remaining_features:\n",
        "            # Create a subset of the data with selected features + this feature\n",
        "            feature_subset = features[:, selected_features + [feature]]\n",
        "\n",
        "            # Perform cross-validation and get the mean accuracy score\n",
        "            score = np.mean(cross_val_score(model, feature_subset, target, cv=5, scoring='accuracy'))\n",
        "\n",
        "            # If the score improves, keep track of this feature\n",
        "            if score > best_feature_score:\n",
        "                best_feature_score = score\n",
        "                best_feature = feature\n",
        "\n",
        "        # If adding a feature improves the performance, add it to the selected set\n",
        "        if best_feature is not None:\n",
        "            selected_features.append(best_feature)\n",
        "            remaining_features.remove(best_feature)\n",
        "            best_score = best_feature_score\n",
        "            print(f\"Selected feature {best_feature} with cross-validation score: {best_score:.4f}\")\n",
        "        else:\n",
        "            break  # Stop if no further improvement\n",
        "\n",
        "    return selected_features, best_score\n",
        "\n",
        "# Initialize the random forest classifier\n",
        "model = RandomForestClassifier(random_state=42)\n",
        "\n",
        "# Perform forward feature selection\n",
        "selected_features, best_score = forward_selection(features, target, model, max_features=5)\n",
        "\n",
        "print(f\"Selected Features: {selected_features}\")\n",
        "print(f\"Best Cross-Validation Score: {best_score:.4f}\")\n",
        "\n"
      ]
    },
    {
      "cell_type": "code",
      "source": [
        "import numpy as np\n",
        "from sklearn.ensemble import RandomForestClassifier\n",
        "from sklearn.datasets import load_breast_cancer\n",
        "from sklearn.model_selection import train_test_split\n",
        "from sklearn.feature_selection import SequentialFeatureSelector\n",
        "from sklearn.metrics import accuracy_score\n",
        "\n",
        "\n",
        "# Load dataset (breast cancer dataset for this example)\n",
        "data = load_breast_cancer()\n",
        "features = data.data   # Features\n",
        "target = data.target   # Target\n",
        "\n",
        "\n",
        "X_train, X_test, y_train, y_test = train_test_split(features, target, test_size=0.2, random_state=42)\n",
        "\n",
        "\n",
        "model = RandomForestClassifier(random_state=42)\n",
        "\n",
        "\n",
        "sfs = SequentialFeatureSelector(model, n_features_to_select=5, direction='forward', scoring='accuracy', cv=5)\n",
        "\n",
        "# Fit the feature selector to the training data\n",
        "sfs.fit(X_train, y_train)\n",
        "\n",
        "\n",
        "selected_features = sfs.get_support(indices=True)\n",
        "\n",
        "\n",
        "X_test_selected = sfs.transform(X_test)\n",
        "\n",
        "model.fit(sfs.transform(X_train), y_train)\n",
        "\n",
        "# Make predictions on the test data with selected features\n",
        "y_pred = model.predict(X_test_selected)\n",
        "\n",
        "# Calculate accuracy score\n",
        "best_score = accuracy_score(y_test, y_pred)\n",
        "\n",
        "print(f\"Selected Features: {selected_features}\")\n",
        "print(f\"Best Cross-Validation Score: {best_score:.4f}\")"
      ],
      "metadata": {
        "colab": {
          "base_uri": "https://localhost:8080/"
        },
        "id": "K5gdYnJ95nsa",
        "outputId": "ef816e49-2bba-4611-b96c-dcc191b84f58"
      },
      "execution_count": 15,
      "outputs": [
        {
          "output_type": "stream",
          "name": "stdout",
          "text": [
            "Selected Features: [ 0  1 23 24 27]\n",
            "Best Cross-Validation Score: 0.9561\n"
          ]
        }
      ]
    },
    {
      "cell_type": "code",
      "source": [],
      "metadata": {
        "id": "7SGuUtfr6cXz"
      },
      "execution_count": null,
      "outputs": []
    }
  ]
}